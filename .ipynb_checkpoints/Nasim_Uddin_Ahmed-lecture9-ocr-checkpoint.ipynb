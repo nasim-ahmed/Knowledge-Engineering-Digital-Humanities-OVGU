{
 "cells": [
  {
   "cell_type": "code",
   "execution_count": 1,
   "metadata": {},
   "outputs": [
    {
     "name": "stdout",
     "output_type": "stream",
     "text": [
      "\u001b[33mWARNING: You are using pip version 21.1.1; however, version 21.1.2 is available.\n",
      "You should consider upgrading via the '/Users/nasim/miniconda3/bin/python -m pip install --upgrade pip' command.\u001b[0m\n",
      "\u001b[33mWARNING: You are using pip version 21.1.1; however, version 21.1.2 is available.\n",
      "You should consider upgrading via the '/Users/nasim/miniconda3/bin/python -m pip install --upgrade pip' command.\u001b[0m\n"
     ]
    }
   ],
   "source": [
    "!pip install pytesseract --quiet\n",
    "!pip install opencv-python --quiet"
   ]
  },
  {
   "cell_type": "code",
   "execution_count": 2,
   "metadata": {},
   "outputs": [],
   "source": [
    "#Importing libraries\n",
    "import cv2\n",
    "import pytesseract\n",
    "import numpy as np\n",
    "from pytesseract import Output"
   ]
  },
  {
   "cell_type": "code",
   "execution_count": 3,
   "metadata": {},
   "outputs": [],
   "source": [
    "# read image\n",
    "image_names = ['dh.jpg', 'dedication.jpg']"
   ]
  },
  {
   "cell_type": "code",
   "execution_count": 4,
   "metadata": {},
   "outputs": [],
   "source": [
    "#Task1 - Extract the text and print the result on the terminal\n",
    "def extract_text_from_image(img_name):\n",
    "    #Loading image using OpenCV\n",
    "    img = cv2.imread('dataset/ocr/{}'.format(img_name))\n",
    "\n",
    "    #Preprocessing image\n",
    "    #Converting to grayscale\n",
    "    gray_image = cv2.cvtColor(img, cv2.COLOR_BGR2GRAY)\n",
    "\n",
    "    #creating Binary image by selecting proper threshold\n",
    "    binary_image = cv2.threshold(gray_image ,130,255,cv2.THRESH_BINARY + cv2.THRESH_OTSU)[1]\n",
    "\n",
    "    #Inverting the image\n",
    "    inverted_bin = cv2.bitwise_not(binary_image)\n",
    "\n",
    "    #Some noise reduction\n",
    "    kernel = np.ones((2,2),np.uint8)\n",
    "    processed_img = cv2.erode(inverted_bin, kernel, iterations = 1)\n",
    "    processed_img = cv2.dilate(processed_img, kernel, iterations = 1)\n",
    "\n",
    "    #Applying image_to_string method\n",
    "    text = pytesseract.image_to_string(processed_img)\n",
    "\n",
    "    print(text)"
   ]
  },
  {
   "cell_type": "code",
   "execution_count": 5,
   "metadata": {},
   "outputs": [
    {
     "name": "stdout",
     "output_type": "stream",
     "text": [
      "Digital Humanities\n",
      "\f",
      "\n"
     ]
    }
   ],
   "source": [
    "extract_text_from_image(image_names[0])"
   ]
  },
  {
   "cell_type": "code",
   "execution_count": 6,
   "metadata": {},
   "outputs": [
    {
     "name": "stdout",
     "output_type": "stream",
     "text": [
      " \n",
      "\n",
      "To those who inspired it\n",
      "and will not read it\n",
      "\f",
      "\n"
     ]
    }
   ],
   "source": [
    "extract_text_from_image(image_names[1])"
   ]
  },
  {
   "cell_type": "code",
   "execution_count": 7,
   "metadata": {},
   "outputs": [],
   "source": [
    "#Task2 - draw text on images \n",
    "def draw_text_image(img_name):\n",
    "    img = cv2.imread('dataset/ocr/{}'.format(img_name))\n",
    "    \n",
    "    d = pytesseract.image_to_data(img, output_type=Output.DICT)\n",
    "    \n",
    "    n_boxes = len(d['text'])\n",
    "    print(n_boxes)\n",
    "    for i in range(n_boxes):\n",
    "        #print(d['text'][i])\n",
    "        #get the words whose confidence scores is more than 60\n",
    "        if int(d['conf'][i]) > 60:\n",
    "            (x, y, w, h) = (d['left'][i], d['top'][i], d['width'][i], d['height'][i])\n",
    "            #draw the rectangle around every word\n",
    "            img = cv2.rectangle(img, (x, y), (x + w, y + h), (0, 255, 0), 2)\n",
    "            cv2.putText(img, d['text'][i], (x, y-50), cv2.FONT_HERSHEY_SIMPLEX, 0.5, (0, 255, 0), 2)\n",
    "\n",
    "    cv2.imshow('img', img)\n",
    "    cv2.waitKey(0)"
   ]
  },
  {
   "cell_type": "code",
   "execution_count": 8,
   "metadata": {},
   "outputs": [
    {
     "name": "stdout",
     "output_type": "stream",
     "text": [
      "6\n"
     ]
    }
   ],
   "source": [
    "draw_text_image(image_names[0])"
   ]
  }
 ],
 "metadata": {
  "kernelspec": {
   "display_name": "Python 3",
   "language": "python",
   "name": "python3"
  },
  "language_info": {
   "codemirror_mode": {
    "name": "ipython",
    "version": 3
   },
   "file_extension": ".py",
   "mimetype": "text/x-python",
   "name": "python",
   "nbconvert_exporter": "python",
   "pygments_lexer": "ipython3",
   "version": "3.8.2"
  }
 },
 "nbformat": 4,
 "nbformat_minor": 4
}
